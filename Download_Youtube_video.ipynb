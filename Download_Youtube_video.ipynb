{
  "nbformat": 4,
  "nbformat_minor": 0,
  "metadata": {
    "colab": {
      "name": "Copy of Download Youtube video.ipynb",
      "provenance": [],
      "include_colab_link": true
    },
    "kernelspec": {
      "name": "python3",
      "display_name": "Python 3"
    },
    "language_info": {
      "name": "python"
    }
  },
  "cells": [
    {
      "cell_type": "markdown",
      "metadata": {
        "id": "view-in-github",
        "colab_type": "text"
      },
      "source": [
        "<a href=\"https://colab.research.google.com/github/harilojunan/ml-interview/blob/master/Download_Youtube_video.ipynb\" target=\"_parent\"><img src=\"https://colab.research.google.com/assets/colab-badge.svg\" alt=\"Open In Colab\"/></a>"
      ]
    },
    {
      "cell_type": "code",
      "execution_count": null,
      "metadata": {
        "id": "Nrmubjq8eCQe",
        "colab": {
          "base_uri": "https://localhost:8080/"
        },
        "outputId": "bf9ea252-01b6-4297-cb23-85142b37f9b7"
      },
      "outputs": [
        {
          "output_type": "stream",
          "name": "stdout",
          "text": [
            "Requirement already satisfied: pytube in /usr/local/lib/python3.7/dist-packages (11.0.2)\n"
          ]
        }
      ],
      "source": [
        "!pip install pytube\n",
        "import pytube"
      ]
    },
    {
      "cell_type": "code",
      "source": [
        "from pytube import YouTube\n",
        "\n",
        "#Creating video lists\n",
        "yt_list = ['https://www.youtube.com/watch?v=zBjJUV-lzHo']\n",
        "\n",
        "#Looping through the list\n",
        "for i in yt_list:\n",
        "  try:\n",
        "    yt = YouTube(i)\n",
        "    print('Downloading Link: ' + i)\n",
        "    print('Downloading video: ' + yt.streams[0].title)\n",
        "  except:\n",
        "    print(\"Connection Error\")\n",
        "\n",
        "  #filters out all the files with \"mp4\" extension\n",
        "  stream = yt.streams.filter(res=\"480p\").first()\n",
        "  stream.download(\"Downloads/\")\n",
        "print('Task Completed!')\n",
        "\n",
        "\n"
      ],
      "metadata": {
        "colab": {
          "base_uri": "https://localhost:8080/"
        },
        "id": "rNnDuo5IeMp_",
        "outputId": "ddfee1be-16f9-4c24-ca1b-618afea9e4af"
      },
      "execution_count": null,
      "outputs": [
        {
          "output_type": "stream",
          "name": "stdout",
          "text": [
            "Downloading Link: https://www.youtube.com/watch?v=zBjJUV-lzHo\n",
            "Downloading video: 1 minute funny videos\n",
            "Task Completed!\n"
          ]
        }
      ]
    },
    {
      "cell_type": "code",
      "source": [
        ""
      ],
      "metadata": {
        "id": "O_f7Qk4pjyhg"
      },
      "execution_count": null,
      "outputs": []
    }
  ]
}